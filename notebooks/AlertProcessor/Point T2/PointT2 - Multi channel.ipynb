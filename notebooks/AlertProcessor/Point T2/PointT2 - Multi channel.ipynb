{
 "cells": [
  {
   "cell_type": "code",
   "execution_count": 1,
   "metadata": {},
   "outputs": [],
   "source": [
    "qi(\"AmpelContext\", \"AmpelDB\", \"AlertProcessor\", \"AmpelLogger\", \"TarAlertLoader\")"
   ]
  },
  {
   "cell_type": "code",
   "execution_count": 2,
   "metadata": {},
   "outputs": [],
   "source": [
    "ctx = AmpelContext.load(\"ampel_conf.yaml\", tier=2)\n",
    "AmpelDB.delete_ampel_databases(ctx.config, \"AmpelTest\")\n",
    "base_path = \"/Users/hu/Documents/ZTF/\""
   ]
  },
  {
   "cell_type": "code",
   "execution_count": 3,
   "metadata": {},
   "outputs": [
    {
     "name": "stdout",
     "output_type": "stream",
     "text": [
      "\n",
      "2020-06-18 16:51:32 AmpelDB:159 INFO\n",
      " Creating AmpelTest_data -> stock\n",
      "   Creating index: {'index': [('_id', 1), ('channel', 1)], 'args': {'unique': True}}\n",
      "\n",
      "2020-06-18 16:51:32 AlertProcessor:175 INFO\n",
      " AlertProcessor setup completed\n"
     ]
    }
   ],
   "source": [
    "ap = AlertProcessor(\n",
    "    context = ctx,\n",
    "    process_name = \"test\",\n",
    "    publish_stats = [\"mongo\"],\n",
    "    supplier = \"ZiAlertSupplier\",\n",
    "    log_profile = \"default\", # other options: 'default' or 'silent'\n",
    "    directives = [\n",
    "        {\n",
    "            \"channel\": \"VAL_TEST1\",\n",
    "            \"stock_update\": \"ZiStockIngester\",\n",
    "            't0_add': {\n",
    "                \"ingester\": \"ZiAlertContentIngester\",\n",
    "                \"t2_compute\": {\n",
    "                    \"ingester\": \"DualPointT2Ingester\",\n",
    "                    \"config\": {\"tags\": [\"ZTF\"]},\n",
    "                    \"units\": [\n",
    "                        {   # every 3rd photopoint\n",
    "                            'unit': 'DemoPointT2Unit', \n",
    "                            'ingest': {'eligible': {'pps': (2, None, 3)}}\n",
    "                        }\n",
    "                    ]\n",
    "                }\n",
    "            }\n",
    "        },\n",
    "        {\n",
    "            \"channel\": \"VAL_TEST2\",\n",
    "            \"stock_update\": \"ZiStockIngester\",\n",
    "            't0_add': {\n",
    "                \"ingester\": \"ZiAlertContentIngester\",\n",
    "                \"t2_compute\": {\n",
    "                    \"ingester\": \"DualPointT2Ingester\",\n",
    "                    \"config\": {\"tags\": [\"ZTF\"]},\n",
    "                    \"units\": [\n",
    "                        {\n",
    "                            # Last photopoint\n",
    "                            'unit': 'DemoPointT2Unit', \n",
    "                            \"ingest\": {'eligible': {'pps': 'last'}}\n",
    "                        }\n",
    "                    ]\n",
    "                }\n",
    "            }\n",
    "        }\n",
    "    ]\n",
    ")"
   ]
  },
  {
   "cell_type": "code",
   "execution_count": 4,
   "metadata": {},
   "outputs": [
    {
     "name": "stdout",
     "output_type": "stream",
     "text": [
      "\n",
      "2020-06-18 16:51:32 AmpelDB:159 INFO\n",
      " Creating AmpelTest_ext -> counter\n",
      "\n",
      "2020-06-18 16:51:32 AmpelDB:159 INFO\n",
      " Creating AmpelTest_var -> logs\n",
      "   Creating index: {'index': [('run', 1)]}\n",
      "   Creating index: {'index': [('stock', 1)], 'args': {'sparse': True}}\n",
      "   Creating index: {'index': [('channel', 1)], 'args': {'sparse': True}}\n",
      "\n",
      "2020-06-18 16:51:32 AmpelDB:159 INFO\n",
      " Creating AmpelTest_var -> events\n",
      "\n",
      "2020-06-18 16:51:32 AmpelDB:159 INFO\n",
      " Creating AmpelTest_data -> t2\n",
      "   Creating index: {'index': [('stock', 1), ('channel', 1)]}\n",
      "   Creating index: {'index': [('status', 1)]}\n",
      "\n",
      "2020-06-18 16:51:32 AmpelDB:159 INFO\n",
      " Creating AmpelTest_data -> t0\n",
      "   Creating index: {'index': [('stock', 1)]}\n",
      "\n",
      "2020-06-18 16:51:33 AmpelDB:159 INFO\n",
      " Creating AmpelTest_data -> t1\n",
      "   Creating index: {'index': [('stock', 1)]}\n",
      "\n",
      "2020-06-18 16:51:33 CORE AlertProcessor:347 SHOUT [r=1]\n",
      " Processing alerts\n",
      "\n",
      "2020-06-18 16:51:33 CORE IngestionHandler:346 INFO [stock=574072209, channel=['VAL_TEST1', 'VAL_TEST2'], alert=1150106942415010004, new=True]\n",
      "\n",
      "2020-06-18 16:51:33 CORE AlertProcessor:471 INFO\n",
      " Reached max number of iterations\n",
      " Computing job stats\n",
      "\n",
      "2020-06-18 16:51:33 CORE AlertProcessor:559 SHOUT\n",
      " Processing completed (time required: 0.618s)\n"
     ]
    },
    {
     "data": {
      "text/plain": [
       "1"
      ]
     },
     "execution_count": 4,
     "metadata": {},
     "output_type": "execute_result"
    }
   ],
   "source": [
    "ap.iter_max=1\n",
    "ap.set_loader(TarAlertLoader(f'{base_path}/ztf_public_20200225.tar.gz'))\n",
    "ap.run()"
   ]
  },
  {
   "cell_type": "code",
   "execution_count": 5,
   "metadata": {},
   "outputs": [
    {
     "name": "stdout",
     "output_type": "stream",
     "text": [
      "Datapoints in the T0 collection (1 is oldest):\n",
      "10: 1150106942415010004\n",
      "9: 1149154782415010008\n",
      "8: 1149140212415010010\n",
      "7: 1146225822415010005\n",
      "6: 1145226652415010008\n",
      "5: -11451754868220687\n",
      "4: 1142200132415010009\n",
      "3: 1139178722415010006\n",
      "2: 1139141562415010005\n",
      "1: 1136226592415010011\n"
     ]
    }
   ],
   "source": [
    "print(\"Datapoints in the T0 collection (1 is oldest):\")\n",
    "dps = sorted(ctx.db.get_collection(\"t0\").find(), key=lambda x: x['body']['jd'], reverse=True)\n",
    "for i, el in enumerate(dps):\n",
    "    print(f\"{len(dps)-i}: {el['_id']}\")"
   ]
  },
  {
   "cell_type": "code",
   "execution_count": 6,
   "metadata": {},
   "outputs": [
    {
     "name": "stdout",
     "output_type": "stream",
     "text": [
      "Created T2 documents\n"
     ]
    },
    {
     "data": {
      "text/html": [
       "<pre style='font-size: 13px'>[<br/>   {<br/>      \"_id\": \"5eeb7f751d6ef52f5e695502\",<br/>      \"col\": \"t0\",<br/>      \"config\": None,<br/><b>      \"link\": 1139178722415010006,</b><br/>      \"stock\": 574072209,<br/><b>      \"unit\": \"DemoPointT2Unit\",</b><br/>      \"channel\": [\"VAL_TEST1\"],<br/>      \"journal\": [{\"tier\": 0, \"dt\": 1592491893, \"channel\": \"VAL_TEST1\"}],<br/>      \"status\": -1,<br/>      \"tag\": [\"ZTF\"]<br/>   },<br/>   {<br/>      \"_id\": \"5eeb7f751d6ef52f5e695503\",<br/>      \"col\": \"t0\",<br/>      \"config\": None,<br/><b>      \"link\": 1146225822415010005,</b><br/>      \"stock\": 574072209,<br/><b>      \"unit\": \"DemoPointT2Unit\",</b><br/>      \"channel\": [\"VAL_TEST1\"],<br/>      \"journal\": [{\"tier\": 0, \"dt\": 1592491893, \"channel\": \"VAL_TEST1\"}],<br/>      \"status\": -1,<br/>      \"tag\": [\"ZTF\"]<br/>   },<br/>   {<br/>      \"_id\": \"5eeb7f751d6ef52f5e695504\",<br/>      \"col\": \"t0\",<br/>      \"config\": None,<br/><b>      \"link\": 1150106942415010004,</b><br/>      \"stock\": 574072209,<br/><b>      \"unit\": \"DemoPointT2Unit\",</b><br/>      \"channel\": [\"VAL_TEST1\", \"VAL_TEST2\"],<br/>      \"journal\": [<br/>         {\"tier\": 0, \"dt\": 1592491893, \"channel\": [\"VAL_TEST1\", \"VAL_TEST2\"]}<br/>      ],<br/>      \"status\": -1,<br/>      \"tag\": [\"ZTF\"]<br/>   }<br/>]</pre>"
      ],
      "text/plain": [
       "<IPython.core.display.HTML object>"
      ]
     },
     "execution_count": 6,
     "metadata": {},
     "output_type": "execute_result"
    }
   ],
   "source": [
    "from ampel.util.pretty import prettyjson, set_bold\n",
    "t2_docs = list(ctx.db.get_collection(\"t2\").find())\n",
    "for el in t2_docs: el['_id'] = str(el['_id']) # allow serialization\n",
    "print(\"Created T2 documents\")\n",
    "set_bold(prettyjson(t2_docs, indent=3), match=\".*link|.*unit\")"
   ]
  },
  {
   "cell_type": "code",
   "execution_count": 7,
   "metadata": {},
   "outputs": [],
   "source": [
    "assert t2_docs[0]['link'] == 1139178722415010006\n",
    "assert t2_docs[1]['link'] == 1146225822415010005\n",
    "assert t2_docs[2]['link'] == 1150106942415010004\n",
    "assert \"VAL_TEST1\" in t2_docs[2]['channel']\n",
    "assert \"VAL_TEST2\" in t2_docs[2]['channel']"
   ]
  }
 ],
 "metadata": {
  "kernelspec": {
   "display_name": "Python 3",
   "language": "python",
   "name": "python3"
  },
  "language_info": {
   "codemirror_mode": {
    "name": "ipython",
    "version": 3
   },
   "file_extension": ".py",
   "mimetype": "text/x-python",
   "name": "python",
   "nbconvert_exporter": "python",
   "pygments_lexer": "ipython3",
   "version": "3.8.4"
  }
 },
 "nbformat": 4,
 "nbformat_minor": 4
}
