{
 "cells": [
  {
   "cell_type": "code",
   "execution_count": 1,
   "metadata": {},
   "outputs": [],
   "source": [
    "qi(\"AmpelContext\", \"AmpelDB\", \"AlertProcessor\", \"TarAlertLoader\")"
   ]
  },
  {
   "cell_type": "code",
   "execution_count": 2,
   "metadata": {},
   "outputs": [],
   "source": [
    "ctx = AmpelContext.load(\"ampel_conf.json\", tier=2)\n",
    "dict.__setitem__(ctx.config._config['db'], 'prefix', 'AmpelTest')\n",
    "AmpelDB.delete_ampel_databases(ctx.config, \"AmpelTest\")"
   ]
  },
  {
   "cell_type": "code",
   "execution_count": 3,
   "metadata": {},
   "outputs": [
    {
     "name": "stdout",
     "output_type": "stream",
     "text": [
      "\n",
      "2020-06-02 18:01:54 AmpelDB:160 INFO\n",
      " Creating AmpelTest_data -> stock\n",
      "   Creating index: {'index': [('_id', 1), ('channel', 1)], 'args': {'unique': True}}\n",
      "\n",
      "2020-06-02 18:01:54 CORE FilterBlock:78 INFO\n",
      " Loading filter: RandFilter\n",
      "\n",
      "2020-06-02 18:01:54 UNIT RandFilter:22 INFO\n",
      " RandFilter initialized with passing rate 1.0\n",
      " AlertProcessor setup completed\n"
     ]
    }
   ],
   "source": [
    "ap = AlertProcessor(\n",
    "    context = ctx,\n",
    "    publish_stats = [\"mongo\"],\n",
    "    supplier = {\n",
    "        \"unit\": \"FilteringAlertSupplier\",\n",
    "        \"config\": {\n",
    "            \"supplier\": {\"unit\": \"ZiAlertSupplier\"},\n",
    "            \"match_ids\": [770239962715015024]\n",
    "        }\n",
    "    },\n",
    "    logger_profile = \"quiet\",\n",
    "    directives = [\n",
    "        {\n",
    "            \"channel\": \"VAL_TEST1\", \n",
    "            \"filter\": {\"unit\": \"RandFilter\", \"config\": {\"passing_rate\": 1.}},\n",
    "            \"stock_update\": \"ZiStockIngester\",\n",
    "            't0_add': {\n",
    "                \"ingester\": \"ZiAlertContentIngester\",\n",
    "                \"t1_combine\": [\n",
    "                    {\n",
    "                        \"ingester\": \"PhotoCompoundIngester\",\n",
    "                        \"config\": {\"combiner\": \"ZiT1Combiner\"},\n",
    "                        \"t2_compute\": {\n",
    "                            \"ingester\": \"PhotoT2Ingester\",\n",
    "                            \"config\": {\"tags\": [\"ZTF\"]},\n",
    "                            \"units\": [{'unit': 'T2SNCosmo', 'config': 55880712071630791}]\n",
    "                        }\n",
    "                    }\n",
    "                ]\n",
    "            }\n",
    "        }\n",
    "    ]\n",
    ")"
   ]
  },
  {
   "cell_type": "code",
   "execution_count": 4,
   "metadata": {},
   "outputs": [
    {
     "name": "stdout",
     "output_type": "stream",
     "text": [
      " Creating AmpelTest_ext -> counter\n",
      " Creating AmpelTest_var -> logs\n",
      "   Creating index: {'index': [('run', 1)]}\n",
      "   Creating index: {'index': [('stock', 1)], 'args': {'sparse': True}}\n",
      "   Creating index: {'index': [('channel', 1)], 'args': {'sparse': True}}\n",
      " Creating AmpelTest_var -> events\n",
      " Creating AmpelTest_data -> t2\n",
      "   Creating index: {'index': [('stock', 1), ('channel', 1)]}\n",
      "   Creating index: {'index': [('status', 1)]}\n",
      " Creating AmpelTest_data -> t0\n",
      "   Creating index: {'index': [('stock', 1)]}\n",
      " Creating AmpelTest_data -> t1\n",
      "   Creating index: {'index': [('stock', 1)]}\n",
      "\n",
      "2020-06-02 18:01:56 CORE AlertProcessor:332 SHOUT\n",
      " Processing alerts (run: 1)\n",
      "\n",
      "2020-06-02 18:02:45 TarAlertLoader:71 INFO\n",
      " Reached end of tar file /Users/hu/Documents/ZTF/ztf_public_20190210.tar.gz\n",
      "\n",
      "2020-06-02 18:02:45 CORE AlertProcessor:542 SHOUT\n",
      " Processing completed (time required: 51s)\n"
     ]
    },
    {
     "data": {
      "text/plain": [
       "1"
      ]
     },
     "execution_count": 4,
     "metadata": {},
     "output_type": "execute_result"
    }
   ],
   "source": [
    "ap.set_loader(\n",
    "    TarAlertLoader('/Users/hu/Documents/ZTF/ztf_public_20190210.tar.gz')\n",
    ")\n",
    "ap.run()"
   ]
  }
 ],
 "metadata": {
  "kernelspec": {
   "display_name": "Python 3",
   "language": "python",
   "name": "python3"
  },
  "language_info": {
   "codemirror_mode": {
    "name": "ipython",
    "version": 3
   },
   "file_extension": ".py",
   "mimetype": "text/x-python",
   "name": "python",
   "nbconvert_exporter": "python",
   "pygments_lexer": "ipython3",
   "version": "3.8.3"
  }
 },
 "nbformat": 4,
 "nbformat_minor": 4
}
