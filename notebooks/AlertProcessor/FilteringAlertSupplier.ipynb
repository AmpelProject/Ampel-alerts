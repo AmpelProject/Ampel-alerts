{
 "cells": [
  {
   "cell_type": "code",
   "execution_count": 1,
   "metadata": {},
   "outputs": [],
   "source": [
    "qi(\"AmpelContext\", \"AmpelDB\", \"AlertProcessor\", \"TarAlertLoader\")"
   ]
  },
  {
   "cell_type": "code",
   "execution_count": 2,
   "metadata": {},
   "outputs": [],
   "source": [
    "ctx = AmpelContext.load(\"ampel_conf.json\", tier=2)\n",
    "dict.__setitem__(ctx.config._config['db'], 'prefix', 'AmpelTest')\n",
    "AmpelDB.delete_ampel_databases(ctx.config, \"AmpelTest\")"
   ]
  },
  {
   "cell_type": "code",
   "execution_count": 3,
   "metadata": {},
   "outputs": [
    {
     "name": "stdout",
     "output_type": "stream",
     "text": [
      "\n",
      "2020-06-18 16:58:32 AmpelDB:159 INFO\n",
      " Creating AmpelTest_data -> stock\n",
      "   Creating index: {'index': [('_id', 1), ('channel', 1)], 'args': {'unique': True}}\n",
      "\n",
      "2020-06-18 16:58:32 FilterBlock:77 INFO\n",
      " Loading filter: RandFilter\n",
      "\n",
      "2020-06-18 16:58:32 AlertProcessor:175 INFO\n",
      " AlertProcessor setup completed\n"
     ]
    }
   ],
   "source": [
    "ap = AlertProcessor(\n",
    "    context = ctx,\n",
    "    publish_stats = [\"mongo\"],\n",
    "    supplier = {\n",
    "        \"unit\": \"FilteringAlertSupplier\",\n",
    "        \"config\": {\n",
    "            \"supplier\": {\"unit\": \"ZiAlertSupplier\"},\n",
    "            \"match_ids\": [770239962715015024]\n",
    "        }\n",
    "    },\n",
    "    log_profile = \"default\",\n",
    "    process_name = \"ap_filtering_supplier_test\",\n",
    "    directives = [\n",
    "        {\n",
    "            \"channel\": \"VAL_TEST1\", \n",
    "            \"filter\": {\"unit\": \"RandFilter\", \"config\": {\"passing_rate\": 1.}},\n",
    "            \"stock_update\": \"ZiStockIngester\",\n",
    "            't0_add': {\n",
    "                \"ingester\": \"ZiAlertContentIngester\",\n",
    "                \"t1_combine\": [\n",
    "                    {\n",
    "                        \"ingester\": \"PhotoCompoundIngester\",\n",
    "                        \"config\": {\"combiner\": \"ZiT1Combiner\"},\n",
    "                        \"t2_compute\": {\n",
    "                            \"ingester\": \"PhotoT2Ingester\",\n",
    "                            \"config\": {\"tags\": [\"ZTF\"]},\n",
    "                            \"units\": [{'unit': 'T2SNCosmo', 'config': 55880712071630791}]\n",
    "                        }\n",
    "                    }\n",
    "                ]\n",
    "            }\n",
    "        }\n",
    "    ]\n",
    ")"
   ]
  },
  {
   "cell_type": "code",
   "execution_count": 4,
   "metadata": {},
   "outputs": [
    {
     "name": "stdout",
     "output_type": "stream",
     "text": [
      "\n",
      "2020-06-18 16:58:32 AmpelDB:159 INFO\n",
      " Creating AmpelTest_ext -> counter\n",
      "\n",
      "2020-06-18 16:58:32 AmpelDB:159 INFO\n",
      " Creating AmpelTest_var -> logs\n",
      "   Creating index: {'index': [('run', 1)]}\n",
      "   Creating index: {'index': [('stock', 1)], 'args': {'sparse': True}}\n",
      "   Creating index: {'index': [('channel', 1)], 'args': {'sparse': True}}\n",
      "\n",
      "2020-06-18 16:58:33 AmpelDB:159 INFO\n",
      " Creating AmpelTest_var -> events\n",
      "\n",
      "2020-06-18 16:58:33 AmpelDB:159 INFO\n",
      " Creating AmpelTest_data -> t2\n",
      "   Creating index: {'index': [('stock', 1), ('channel', 1)]}\n",
      "   Creating index: {'index': [('status', 1)]}\n",
      "\n",
      "2020-06-18 16:58:33 AmpelDB:159 INFO\n",
      " Creating AmpelTest_data -> t0\n",
      "   Creating index: {'index': [('stock', 1)]}\n",
      "\n",
      "2020-06-18 16:58:33 AmpelDB:159 INFO\n",
      " Creating AmpelTest_data -> t1\n",
      "   Creating index: {'index': [('stock', 1)]}\n",
      "\n",
      "2020-06-18 16:58:34 CORE AlertProcessor:347 SHOUT [r=1]\n",
      " Processing alerts\n",
      "\n",
      "2020-06-18 16:58:34 CORE FilterBlock:150 INFO [stock=3824288, channel=VAL_TEST1, alert=770239962715015024]\n",
      "\n",
      "2020-06-18 16:58:34 CORE IngestionHandler:346 INFO [stock=3824288, channel=VAL_TEST1, alert=770239962715015024, new=True]\n",
      "\n",
      "2020-06-18 16:59:22 TarAlertLoader:71 INFO\n",
      " Reached end of tar file /Users/hu/Documents/ZTF/ztf_public_20190210.tar.gz\n",
      "\n",
      "2020-06-18 16:59:22 CORE AlertProcessor:502 INFO\n",
      " Computing job stats\n",
      "\n",
      "2020-06-18 16:59:22 CORE AlertProcessor:559 SHOUT\n",
      " Processing completed (time required: 50.02s)\n"
     ]
    },
    {
     "data": {
      "text/plain": [
       "1"
      ]
     },
     "execution_count": 4,
     "metadata": {},
     "output_type": "execute_result"
    }
   ],
   "source": [
    "ap.set_loader(\n",
    "    TarAlertLoader('/Users/hu/Documents/ZTF/ztf_public_20190210.tar.gz')\n",
    ")\n",
    "ap.run()"
   ]
  },
  {
   "cell_type": "code",
   "execution_count": null,
   "metadata": {},
   "outputs": [],
   "source": []
  }
 ],
 "metadata": {
  "kernelspec": {
   "display_name": "Python 3",
   "language": "python",
   "name": "python3"
  },
  "language_info": {
   "codemirror_mode": {
    "name": "ipython",
    "version": 3
   },
   "file_extension": ".py",
   "mimetype": "text/x-python",
   "name": "python",
   "nbconvert_exporter": "python",
   "pygments_lexer": "ipython3",
   "version": "3.8.4"
  }
 },
 "nbformat": 4,
 "nbformat_minor": 4
}
